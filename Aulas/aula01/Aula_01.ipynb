{
  "metadata": {
    "kernelspec": {
      "name": "python",
      "display_name": "Python (Pyodide)",
      "language": "python"
    },
    "language_info": {
      "codemirror_mode": {
        "name": "python",
        "version": 3
      },
      "file_extension": ".py",
      "mimetype": "text/x-python",
      "name": "python",
      "nbconvert_exporter": "python",
      "pygments_lexer": "ipython3",
      "version": "3.8"
    }
  },
  "nbformat_minor": 5,
  "nbformat": 4,
  "cells": [
    {
      "cell_type": "markdown",
      "source": "01 - Crie um negocio aí de somar",
      "metadata": {},
      "id": "6d10684a-1f19-4b94-9fa6-e367e6bce5fe"
    },
    {
      "cell_type": "code",
      "source": "x = 2\ny = 2\nres = (x+y)\n\nprint(res)",
      "metadata": {
        "trusted": true
      },
      "execution_count": 1,
      "outputs": [
        {
          "name": "stdout",
          "text": "4\n",
          "output_type": "stream"
        }
      ],
      "id": "36b21b5e-09d9-429f-8ee7-cb89ae060752"
    },
    {
      "cell_type": "code",
      "source": "",
      "metadata": {},
      "execution_count": null,
      "outputs": [],
      "id": "a2e98c53-8dd9-4154-88f0-cff5d503021d"
    }
  ]
}