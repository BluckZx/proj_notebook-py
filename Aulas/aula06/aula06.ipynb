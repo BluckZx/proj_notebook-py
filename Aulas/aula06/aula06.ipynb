{
  "metadata": {
    "language_info": {
      "codemirror_mode": {
        "name": "python",
        "version": 3
      },
      "file_extension": ".py",
      "mimetype": "text/x-python",
      "name": "python",
      "nbconvert_exporter": "python",
      "pygments_lexer": "ipython3",
      "version": "3.8"
    },
    "kernelspec": {
      "name": "python",
      "display_name": "Python (Pyodide)",
      "language": "python"
    }
  },
  "nbformat_minor": 4,
  "nbformat": 4,
  "cells": [
    {
      "cell_type": "markdown",
      "source": "01 - Crie um programa que crie um objeto e um construtor com nome pessoa. Adicionando uma lista com quatro pessoas",
      "metadata": {}
    },
    {
      "cell_type": "code",
      "source": "class pessoa:\n    def __init__(self,nome,idade,cargo,salario):\n        self.nome = nome\n        self.idade = idade\n        self.cargo = cargo\n        self.salario = salario\n        \ncadastro = []\n\ncadastro.append(pessoa(\"Carlos\",21,\"Engenheiro\",\"R$ 10.000,00\"))\ncadastro.append(pessoa(\"Gustavo\",80,\"Auxiliar\",\"R$ 1.200,00\"))\ncadastro.append(pessoa(\"Samuel\",40,\"Assistente\",\"R$ 1.300,00\"))\ncadastro.append(pessoa(\"Enzo\",15,\"Estagiario\",\"R$ 600,00\"))\ncadastro.append(pessoa(\"Manuela\",18,\"Aux. Administrativo\",\"R$ 1.300,00\"))\n\ncadastro.sort(key=lambda x: x.nome)\n\nfor v in cadastro:\n    print(\"{:<10}{:<4}{:<25}{:<0}\".format(v.nome,v.idade,v.cargo,v.salario))\n        ",
      "metadata": {
        "trusted": true
      },
      "execution_count": 8,
      "outputs": [
        {
          "name": "stdout",
          "text": "Carlos    21  Engenheiro               R$ 10.000,00\nEnzo      15  Estagiario               R$ 600,00\nGustavo   80  Auxiliar                 R$ 1.200,00\nManuela   18  Aux. Administrativo      R$ 1.300,00\nSamuel    40  Assistente               R$ 1.300,00\n",
          "output_type": "stream"
        }
      ]
    },
    {
      "cell_type": "markdown",
      "source": "02 - Crie um programa onde possua, modelo, marca, ano, placa. Adicione três carros",
      "metadata": {}
    },
    {
      "cell_type": "code",
      "source": "class carro:\n    def __init__(self,modelo,marca,ano,placa):\n        self.modelo = modelo\n        self.marca = marca\n        self.ano = ano\n        self.placa = placa\n        \ncadastro = []\n\ncadastro.append(carro(\"HB20\",\"Hyundai\",2020,\"GSF5C89\"))\ncadastro.append(carro(\"Palio Fire\",\"Fiat\",2015,\"SDR2K57\"))\ncadastro.append(carro(\"Corolla Xei\",\"Toyota\",2021,\"CEP9D15\"))\n\ncadastro.sort(key=lambda x: x.modelo)\n\nfor v in cadastro:\n    print(\"{:<20}{:<20}{:<20}{:<0}\".format(v.modelo,v.marca,v.ano,v.placa))",
      "metadata": {
        "trusted": true
      },
      "execution_count": 11,
      "outputs": [
        {
          "name": "stdout",
          "text": "Corolla Xei         Toyota              2021                CEP9D15\nHB20                Hyundai             2020                GSF5C89\nPalio Fire          Fiat                2015                SDR2K57\n",
          "output_type": "stream"
        }
      ]
    },
    {
      "cell_type": "code",
      "source": "",
      "metadata": {},
      "execution_count": null,
      "outputs": []
    }
  ]
}