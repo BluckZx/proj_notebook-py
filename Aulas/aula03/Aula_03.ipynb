{
  "metadata": {
    "language_info": {
      "codemirror_mode": {
        "name": "python",
        "version": 3
      },
      "file_extension": ".py",
      "mimetype": "text/x-python",
      "name": "python",
      "nbconvert_exporter": "python",
      "pygments_lexer": "ipython3",
      "version": "3.8"
    },
    "kernelspec": {
      "name": "python",
      "display_name": "Python (Pyodide)",
      "language": "python"
    }
  },
  "nbformat_minor": 4,
  "nbformat": 4,
  "cells": [
    {
      "cell_type": "markdown",
      "source": "01 - Crie um programa que entre com o valor zero e conte até cinco",
      "metadata": {}
    },
    {
      "cell_type": "code",
      "source": "x = 0\nwhile(x<=5):\n    print(x)\n    x += 1",
      "metadata": {
        "trusted": true
      },
      "execution_count": 2,
      "outputs": [
        {
          "name": "stdout",
          "text": "0\n1\n2\n3\n4\n5\n",
          "output_type": "stream"
        }
      ]
    },
    {
      "cell_type": "markdown",
      "source": "02 - Crie um programa que guarde cinco nomes e demonstro o numero armazenado:",
      "metadata": {}
    },
    {
      "cell_type": "code",
      "source": "nome = ['Gustavo','Aline','Murilo','Carlos','Roseli']\n\nx = 0\nwhile(x<5):\n    print(x,\" - \",nome [x])\n    x += 1",
      "metadata": {
        "trusted": true
      },
      "execution_count": null,
      "outputs": []
    },
    {
      "cell_type": "markdown",
      "source": "03 - Crie um programa que guarde cinco nomes e cinco idades e demonstre o numero armazenado",
      "metadata": {}
    },
    {
      "cell_type": "code",
      "source": "nome = ['Gustavo','Aline','Murilo -','Carlos','Roseli']\nidade = ['23','24','67','49','19']\n\nx = 0\nwhile(x<5):\n    print(x,\" - \",nome [x], idade[x],\"anos\")\n    x += 1\n",
      "metadata": {
        "trusted": true
      },
      "execution_count": null,
      "outputs": []
    },
    {
      "cell_type": "code",
      "source": "",
      "metadata": {},
      "execution_count": null,
      "outputs": []
    }
  ]
}