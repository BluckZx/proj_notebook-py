{
  "metadata": {
    "language_info": {
      "codemirror_mode": {
        "name": "python",
        "version": 3
      },
      "file_extension": ".py",
      "mimetype": "text/x-python",
      "name": "python",
      "nbconvert_exporter": "python",
      "pygments_lexer": "ipython3",
      "version": "3.8"
    },
    "kernelspec": {
      "name": "python",
      "display_name": "Python (Pyodide)",
      "language": "python"
    }
  },
  "nbformat_minor": 4,
  "nbformat": 4,
  "cells": [
    {
      "cell_type": "markdown",
      "source": "01 - Crie uma lista com quatro nomes, quatro endereços e quatro telefone. Mostre a lista de forma formatada",
      "metadata": {}
    },
    {
      "cell_type": "code",
      "source": "nome=[\n    \"Gustavo\",\n    \"Ana Luzia\",\n    \"Carlos\",\n    \"Maria\"\n    ]\nidades=[\n    17,20,50,57\n    ]\nfone=[\n    \"99940-7070\",\n    \"93729-6060\",\n    \"97425-2020\",\n    \"97242-2034\"\n    ]\n\nx = 0\nprint(\"{:<15}{:8}{:<0}\".format(\"Nome\",\"Idade\",\"Telefone\"))\nprint(\"---------------------------------\")\nwhile(x<=3):\n    print(\"{:<15}{:<8}{:<0}\".format(nome[x],idades[x],fone[x]))\n    x += 1\n    ",
      "metadata": {
        "trusted": true
      },
      "execution_count": 8,
      "outputs": [
        {
          "name": "stdout",
          "text": "Nome           Idade   Telefone\n                  \nGustavo        17      99940-7070\nAna Luzia      20      93729-6060\nCarlos         50      97425-2020\nMaria          57      97242-2034\n",
          "output_type": "stream"
        }
      ]
    },
    {
      "cell_type": "markdown",
      "source": "02 - Crie um programa que mostre tres endereços, tres numeros, tres bairros e tres cidades",
      "metadata": {}
    },
    {
      "cell_type": "code",
      "source": "numeros=[\n    640,129,724,\n    ]\nenderecos=[\n    \"Rua Joaquim\",\"Rua Belgalin\",\"Rua Bragança\"\n    ]\nbairros=[\n    \"Convivio Reconquista\",\n    \"São Judas\",\n    \"Buru\"\n    ]\ncidades=[\n    \"Salto/SP\",\n    \"Sorocaba/SP\",\n    \"Itu/SP\"\n    ]\n\nx = 0\nprint(\"|{:<15}|{:15}|{:<25}|{:<15}|\".format(\"Endereços\",\"Numeros\",\"Bairros\",\"Cidades\"))\nprint(\"|---------------|---------------|-------------------------|---------------|\")\nwhile(x<=2):\n    print(\"|{:<15}|{:<15}|{:<25}|{:<15}|\".format(enderecos[x],numeros[x],bairros[x],cidades[x]))\n    x += 1\n    ",
      "metadata": {
        "trusted": true
      },
      "execution_count": 46,
      "outputs": [
        {
          "name": "stdout",
          "text": "|Endereços      |Numeros        |Bairros                  |Cidades        |\n|---------------|---------------|-------------------------|---------------|\n|Rua Joaquim    |640            |Convivio Reconquista     |Salto/SP       |\n|Rua Belgalin   |129            |São Judas                |Sorocaba/SP    |\n|Rua Bragança   |724            |Buru                     |Itu/SP         |\n",
          "output_type": "stream"
        }
      ]
    },
    {
      "cell_type": "code",
      "source": "",
      "metadata": {},
      "execution_count": null,
      "outputs": []
    }
  ]
}