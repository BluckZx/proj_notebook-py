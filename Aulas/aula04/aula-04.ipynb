{
  "metadata": {
    "kernelspec": {
      "name": "python",
      "display_name": "Python (Pyodide)",
      "language": "python"
    },
    "language_info": {
      "codemirror_mode": {
        "name": "python",
        "version": 3
      },
      "file_extension": ".py",
      "mimetype": "text/x-python",
      "name": "python",
      "nbconvert_exporter": "python",
      "pygments_lexer": "ipython3",
      "version": "3.8"
    }
  },
  "nbformat_minor": 5,
  "nbformat": 4,
  "cells": [
    {
      "cell_type": "markdown",
      "source": "01 - Crie um programa que conte de zero até cinco ",
      "metadata": {},
      "id": "d406cf47-3ca0-4ed9-a5bb-211a3c7c551f"
    },
    {
      "cell_type": "code",
      "source": "x = 0\nwhile (x<=5):\n    print(x)\n    x += 1",
      "metadata": {
        "trusted": true
      },
      "execution_count": 1,
      "outputs": [
        {
          "name": "stdout",
          "text": "0\n1\n2\n3\n4\n5\n",
          "output_type": "stream"
        }
      ],
      "id": "898348e6-68d3-4b06-b13a-c7eca13f3b8a"
    },
    {
      "cell_type": "markdown",
      "source": "02 - Crie uma lista com cinco nomes e mostre cada um e seus respectivos numeros",
      "metadata": {},
      "id": "96007406-d209-4d3f-9663-c93d99b58f24"
    },
    {
      "cell_type": "code",
      "source": "nome = []\nnome=[\"Gustavo\",\n      \"Carlos\",\n      \"Felipe\",\n      \"Ana Luiza\",\n      \"Maria Rita\"]\n     \nx = 0\nwhile(x<=4):\n    print(x,nome[x])\n    x += 1",
      "metadata": {
        "trusted": true
      },
      "execution_count": 4,
      "outputs": [
        {
          "name": "stdout",
          "text": "0 Gustavo\n1 Carlos\n2 Felipe\n3 Ana Luiza\n4 Maria Rita\n",
          "output_type": "stream"
        }
      ],
      "id": "4c77a83c-cce8-48a3-b8a4-85db3157cc7c"
    },
    {
      "cell_type": "markdown",
      "source": "03 - Crie uma lista com cinco nomes e organize em ordem alfabética, mostrando os seus respectivos numeros:",
      "metadata": {},
      "id": "5d5a96f8-e38a-4a01-a5a7-99748b66b7e1"
    },
    {
      "cell_type": "code",
      "source": "nome = []\nnome=[\"Gustavo\",\n      \"Carlos\",\n      \"Felipe\",\n      \"Ana Luiza\",\n      \"Maria Rita\"]\nnome.sort()\nx = 0\nwhile(x<=4):\n    print(x,nome[x])\n    x += 1",
      "metadata": {
        "trusted": true
      },
      "execution_count": 5,
      "outputs": [
        {
          "name": "stdout",
          "text": "0 Ana Luiza\n1 Carlos\n2 Felipe\n3 Gustavo\n4 Maria Rita\n",
          "output_type": "stream"
        }
      ],
      "id": "6fb854f3-afe5-4356-8218-4f8644992199"
    },
    {
      "cell_type": "code",
      "source": "",
      "metadata": {},
      "execution_count": null,
      "outputs": [],
      "id": "a6a1b12f-40c3-4e9a-aacc-cd0c3ac6d512"
    }
  ]
}